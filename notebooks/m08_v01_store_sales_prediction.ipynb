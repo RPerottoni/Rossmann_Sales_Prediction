{
 "cells": [
  {
   "cell_type": "markdown",
   "id": "0f554598",
   "metadata": {},
   "source": [
    "# 0.0 - IMPORTS"
   ]
  },
  {
   "cell_type": "code",
   "execution_count": 1,
   "id": "99c034c4",
   "metadata": {
    "ExecuteTime": {
     "end_time": "2022-01-11T12:19:04.385084Z",
     "start_time": "2022-01-11T12:18:46.272683Z"
    }
   },
   "outputs": [],
   "source": [
    "import math\n",
    "import datetime\n",
    "import inflection\n",
    "\n",
    "import numpy       as np\n",
    "import pandas      as pd\n",
    "import seaborn     as sns\n",
    "import xgboost     as xgb\n",
    "\n",
    "from IPython.core.display    import HTMLf\n",
    "from IPython.display         import Image\n",
    "from boruta                  import BorutaPy\n",
    "from scipy                   import stats  as ss\n",
    "from matplotlib              import pyplot as plt\n",
    "\n",
    "from sklearn.ensemble        import RandomForestRegressor\n",
    "from sklearn.linear_model    import LinearRegression, Lasso\n",
    "from sklearn.preprocessing   import MinMaxScaler, LabelEncoder, RobustScaler\n",
    "from sklearn.metrics         import mean_absolute_error, mean_absolute_percentage_error, mean_squared_error"
   ]
  },
  {
   "cell_type": "markdown",
   "id": "8417cad0",
   "metadata": {},
   "source": [
    "## 0.1 Helper Functions"
   ]
  },
  {
   "cell_type": "code",
   "execution_count": 2,
   "id": "5512dcc4",
   "metadata": {
    "ExecuteTime": {
     "end_time": "2022-01-11T12:19:04.481053Z",
     "start_time": "2022-01-11T12:19:04.388083Z"
    }
   },
   "outputs": [],
   "source": [
    "def cross_validation(x_training, kfold, model_name, model, verbose=False ):\n",
    "    mae_list= []\n",
    "    mape_list = []\n",
    "    rmse_list = []\n",
    "\n",
    "    for k in reversed( range(1, kfold+1 ) ):\n",
    "        if verbose:\n",
    "            print('\\nKFold Number: {}'.format(k) )\n",
    "       \n",
    "        # start and end date for validation\n",
    "        validation_start_date = x_training['date'].max() - datetime.timedelta( days=k*6*7 )\n",
    "        validadtion_end_date = x_training['date'].max() - datetime.timedelta( days=(k-1)*6*7 )\n",
    "\n",
    "        # filtering dataset\n",
    "        training = x_training[x_training['date'] < validation_start_date]\n",
    "        validation = x_training[(x_training['date'] >= validation_start_date) & (x_training['date'] <= validadtion_end_date)]\n",
    "\n",
    "        # training and validation datasel\n",
    "        # training\n",
    "        xtraining = training.drop( ['date','sales'], axis=1 )\n",
    "        ytraining = training['sales']\n",
    "\n",
    "        # validation\n",
    "        xvalidation = validation.drop( ['date','sales'], axis=1 )\n",
    "        yvalidation = validation['sales']\n",
    "\n",
    "        # model\n",
    "        m = model.fit( xtraining, ytraining )\n",
    "\n",
    "        #prediction\n",
    "        yhat = m.predict( xvalidation )\n",
    "\n",
    "        #performance\n",
    "        m_result = ml_error( model_name, np.expm1( yvalidation), np.expm1(yhat) )\n",
    "\n",
    "        # store performance of each kfold interation\n",
    "        mae_list.append( m_result['MAE'] )\n",
    "        mape_list.append( m_result['MAPE'] )\n",
    "        rmse_list.append( m_result['RMSE'] )\n",
    "\n",
    "    return pd.DataFrame( {'Model Name': model_name,\n",
    "                          'MAE CV': np.round( np.mean( mae_list), 2 ).astype( str ) + ' +/- ' + np.round( np.std( mae_list ), 2 ).astype( str ),\n",
    "                          'MAPE CV': np.round( np.mean( mape_list), 2 ).astype( str ) + ' +/- ' + np.round( np.std( mape_list ), 2 ).astype( str ),\n",
    "                          'RMSE CV': np.round( np.mean( rmse_list), 2 ).astype( str ) + ' +/- ' + np.round( np.std( rmse_list ), 2 ).astype( str ) }, index=[0] )\n",
    "\n",
    "def ml_error( model_name, y, yhat ):\n",
    "    mae = mean_absolute_error( y, yhat )\n",
    "    mape = mean_absolute_percentage_error( y, yhat )\n",
    "    rmse = np.sqrt( mean_squared_error( y, yhat ) )\n",
    "    \n",
    "    return pd.DataFrame( {'Model Name': model_name,\n",
    "                          'MAE': mae,\n",
    "                          'MAPE': mape,\n",
    "                          'RMSE': rmse}, index=[0])\n",
    "\n",
    "def mean_percentage_error ( y, yhat ):\n",
    "    return np.mean( ( y- yhat ) /y )\n",
    "\n",
    "def cramer_v( x, y):\n",
    "    cm = pd.crosstab( x, y).values   \n",
    "    n = cm.sum()\n",
    "    r, k = cm.shape    \n",
    "    \n",
    "    chi2 = ss.chi2_contingency( cm )[0]\n",
    "    chi2corr = max( 0, chi2 - (k-1)*(r-1)/(n-1) )\n",
    "    kcorr = k - (k-1)**2/(n-1)\n",
    "    rcorr = r - (r-1)**2/(n-1) \n",
    "    \n",
    "    return np.sqrt( (chi2corr/n) / ( min( kcorr-1, rcorr-1 ) ) )\n",
    "\n",
    "def jupyter_settings():\n",
    "    %matplotlib inline\n",
    "    %pylab inline\n",
    "    \n",
    "    plt.style.use( 'bmh' )\n",
    "    plt.rcParams['figure.figsize'] = [25,12]\n",
    "    plt.rcParams['font.size'] = 24\n",
    "    \n",
    "    display( HTML( '<style>.container {width:100% !important; }</style>') )\n",
    "    pd.options.display.max_columns = None\n",
    "    pd.options.display.max_rows = None\n",
    "    pd.set_option( 'display.expand_frame_repr', False )\n",
    "    \n",
    "    sns.set()"
   ]
  },
  {
   "cell_type": "code",
   "execution_count": 3,
   "id": "8b0ad9f4",
   "metadata": {
    "ExecuteTime": {
     "end_time": "2022-01-11T12:19:04.577022Z",
     "start_time": "2022-01-11T12:19:04.483052Z"
    }
   },
   "outputs": [
    {
     "name": "stdout",
     "output_type": "stream",
     "text": [
      "Populating the interactive namespace from numpy and matplotlib\n"
     ]
    },
    {
     "data": {
      "text/html": [
       "<style>.container {width:100% !important; }</style>"
      ],
      "text/plain": [
       "<IPython.core.display.HTML object>"
      ]
     },
     "metadata": {},
     "output_type": "display_data"
    }
   ],
   "source": [
    "jupyter_settings()"
   ]
  },
  {
   "cell_type": "markdown",
   "id": "1aa38595",
   "metadata": {},
   "source": [
    "## 0.2 Loading Data"
   ]
  },
  {
   "cell_type": "code",
   "execution_count": 4,
   "id": "5bd944e9",
   "metadata": {
    "ExecuteTime": {
     "end_time": "2022-01-11T12:19:06.542357Z",
     "start_time": "2022-01-11T12:19:04.580021Z"
    }
   },
   "outputs": [],
   "source": [
    "df_sales_raw = pd.read_csv( 'data_csv/train.csv', low_memory= False)\n",
    "df_store_raw = pd.read_csv( 'data_csv/store.csv', low_memory= False)\n",
    "\n",
    "# Merge\n",
    "df_raw = pd.merge( df_sales_raw, df_store_raw, how='left', on='Store' )"
   ]
  },
  {
   "cell_type": "markdown",
   "id": "d498462c",
   "metadata": {
    "heading_collapsed": true
   },
   "source": [
    "# 1.0 PASSO 1 - DATA DESCRIPTION"
   ]
  },
  {
   "cell_type": "markdown",
   "id": "3384f156",
   "metadata": {
    "heading_collapsed": true,
    "hidden": true
   },
   "source": [
    "## 1.1 Rename Columns."
   ]
  },
  {
   "cell_type": "code",
   "execution_count": 5,
   "id": "c4e464c7",
   "metadata": {
    "ExecuteTime": {
     "end_time": "2022-01-11T12:19:06.620366Z",
     "start_time": "2022-01-11T12:19:06.544360Z"
    },
    "hidden": true
   },
   "outputs": [],
   "source": [
    "df1 = df_raw.copy()"
   ]
  },
  {
   "cell_type": "code",
   "execution_count": 6,
   "id": "fe528c0d",
   "metadata": {
    "ExecuteTime": {
     "end_time": "2022-01-11T12:19:06.635362Z",
     "start_time": "2022-01-11T12:19:06.623366Z"
    },
    "hidden": true
   },
   "outputs": [],
   "source": [
    "cols_old = ['Store', 'DayOfWeek', 'Date', 'Sales', 'Customers', 'Open', 'Promo', 'StateHoliday', 'SchoolHoliday', 'StoreType',\n",
    "            'Assortment', 'CompetitionDistance', 'CompetitionOpenSinceMonth', 'CompetitionOpenSinceYear', 'Promo2',\n",
    "            'Promo2SinceWeek','Promo2SinceYear', 'PromoInterval']\n",
    "\n",
    "snakecase = lambda x: inflection.underscore( x )\n",
    "\n",
    "cols_new = list( map( snakecase, cols_old ) )\n",
    "\n",
    "# rename\n",
    "df1.columns = cols_new"
   ]
  },
  {
   "cell_type": "markdown",
   "id": "b3205e63",
   "metadata": {
    "heading_collapsed": true,
    "hidden": true
   },
   "source": [
    "## 1.2 Data Dimensions"
   ]
  },
  {
   "cell_type": "code",
   "execution_count": 7,
   "id": "ee459fc1",
   "metadata": {
    "ExecuteTime": {
     "end_time": "2022-01-11T12:19:06.712558Z",
     "start_time": "2022-01-11T12:19:06.639361Z"
    },
    "hidden": true
   },
   "outputs": [
    {
     "name": "stdout",
     "output_type": "stream",
     "text": [
      "Number of Rows: 1017209\n",
      "Number of Cols: 18\n"
     ]
    }
   ],
   "source": [
    "print( 'Number of Rows: {}'.format( df1.shape[0] ) )\n",
    "print( 'Number of Cols: {}'.format( df1.shape[1] ) )"
   ]
  },
  {
   "cell_type": "markdown",
   "id": "0b4550cd",
   "metadata": {
    "heading_collapsed": true,
    "hidden": true
   },
   "source": [
    "## 1.3 Data Types"
   ]
  },
  {
   "cell_type": "code",
   "execution_count": 8,
   "id": "33fa760f",
   "metadata": {
    "ExecuteTime": {
     "end_time": "2022-01-11T12:19:06.995952Z",
     "start_time": "2022-01-11T12:19:06.717556Z"
    },
    "hidden": true
   },
   "outputs": [],
   "source": [
    "df1['date'] = pd.to_datetime (df1['date'] )"
   ]
  },
  {
   "cell_type": "markdown",
   "id": "adcb0a61",
   "metadata": {
    "hidden": true
   },
   "source": [
    "## 1.4 Check NA"
   ]
  },
  {
   "cell_type": "markdown",
   "id": "88d6a3b2",
   "metadata": {
    "heading_collapsed": true,
    "hidden": true
   },
   "source": [
    "## 1.5 Fillout NA"
   ]
  },
  {
   "cell_type": "code",
   "execution_count": 9,
   "id": "4a853bd0",
   "metadata": {
    "ExecuteTime": {
     "end_time": "2022-01-11T12:21:04.560900Z",
     "start_time": "2022-01-11T12:19:06.998952Z"
    },
    "hidden": true
   },
   "outputs": [],
   "source": [
    "# Competition Distance\n",
    "df1['competition_distance'] = df1['competition_distance'].apply( lambda x: 200000.0 if math.isnan( x ) else x )\n",
    "\n",
    "# Competition Open Since Month\n",
    "df1['competition_open_since_month'] = df1.apply( lambda x: x['date'].month if math.isnan( x['competition_open_since_month'] ) else x['competition_open_since_month'], axis=1 )\n",
    "\n",
    "# Competition Open Since Year\n",
    "df1['competition_open_since_year'] = df1.apply( lambda x: x['date'].year if math.isnan( x['competition_open_since_year'] ) else x['competition_open_since_year'], axis=1 )\n",
    "\n",
    "# Promo2 Since Week\n",
    "df1['promo2_since_week'] = df1.apply( lambda x: x['date'].week if math.isnan( x['promo2_since_week'] ) else x['promo2_since_week'], axis=1 )\n",
    "\n",
    "# Promo2 Since Year\n",
    "df1['promo2_since_year'] = df1.apply( lambda x: x['date'].year if math.isnan( x['promo2_since_year'] ) else x['promo2_since_year'], axis=1 )\n",
    "\n",
    "# Promo Interval\n",
    "month_map = {1: 'Jan', 2: 'Fev', 3: 'Mar', 4: 'Apr', 5: 'May', 6: 'Jun', 7: 'Jul', 8: 'Aug', 9: 'Sept', 10: 'Oct', 11: 'Nov', 12: 'Dec'}\n",
    "\n",
    "df1['promo_interval'].fillna(0, inplace=True)\n",
    "\n",
    "df1['month_map'] = df1['date'].dt.month.map( month_map )\n",
    "\n",
    "df1['is_promo'] = df1[['promo_interval', 'month_map']].apply( lambda x: 0 if x['promo_interval'] == 0 else 1 if x['month_map'] in x['promo_interval'].split( ',' ) else 0, axis=1 )"
   ]
  },
  {
   "cell_type": "markdown",
   "id": "a144bfc6",
   "metadata": {
    "heading_collapsed": true,
    "hidden": true
   },
   "source": [
    "## 1.6 Change Types"
   ]
  },
  {
   "cell_type": "code",
   "execution_count": 10,
   "id": "1b63afe3",
   "metadata": {
    "ExecuteTime": {
     "end_time": "2022-01-11T12:21:04.630464Z",
     "start_time": "2022-01-11T12:21:04.560900Z"
    },
    "hidden": true
   },
   "outputs": [],
   "source": [
    "df1['competition_open_since_month'] = df1['competition_open_since_month'].astype( int )\n",
    "df1['competition_open_since_year'] = df1['competition_open_since_year'].astype( int )\n",
    "\n",
    "df1['promo2_since_week'] = df1['promo2_since_week'].astype( int )\n",
    "df1['promo2_since_year'] = df1['promo2_since_year'].astype( int )"
   ]
  },
  {
   "cell_type": "markdown",
   "id": "e39f079a",
   "metadata": {
    "heading_collapsed": true,
    "hidden": true
   },
   "source": [
    "## 1.7 Descriptive Statistical"
   ]
  },
  {
   "cell_type": "markdown",
   "id": "ff90c41c",
   "metadata": {
    "hidden": true
   },
   "source": [
    "### 1.7.1 Numerical Categorics"
   ]
  },
  {
   "cell_type": "code",
   "execution_count": 11,
   "id": "028218e5",
   "metadata": {
    "ExecuteTime": {
     "end_time": "2022-01-11T12:21:04.852595Z",
     "start_time": "2022-01-11T12:21:04.632203Z"
    },
    "hidden": true
   },
   "outputs": [],
   "source": [
    "num_attributes = df1.select_dtypes( include=['int32', 'int64', 'float64'] )\n",
    "cat_attributes = df1.select_dtypes( exclude=['int32', 'int64', 'float64', 'datetime64[ns]'] )"
   ]
  },
  {
   "cell_type": "code",
   "execution_count": 12,
   "id": "890b13e3",
   "metadata": {
    "ExecuteTime": {
     "end_time": "2022-01-11T12:21:08.727446Z",
     "start_time": "2022-01-11T12:21:04.853588Z"
    },
    "hidden": true
   },
   "outputs": [
    {
     "data": {
      "text/html": [
       "<div>\n",
       "<style scoped>\n",
       "    .dataframe tbody tr th:only-of-type {\n",
       "        vertical-align: middle;\n",
       "    }\n",
       "\n",
       "    .dataframe tbody tr th {\n",
       "        vertical-align: top;\n",
       "    }\n",
       "\n",
       "    .dataframe thead th {\n",
       "        text-align: right;\n",
       "    }\n",
       "</style>\n",
       "<table border=\"1\" class=\"dataframe\">\n",
       "  <thead>\n",
       "    <tr style=\"text-align: right;\">\n",
       "      <th></th>\n",
       "      <th>attributes</th>\n",
       "      <th>min</th>\n",
       "      <th>max</th>\n",
       "      <th>range</th>\n",
       "      <th>mean</th>\n",
       "      <th>median</th>\n",
       "      <th>std</th>\n",
       "      <th>skew</th>\n",
       "      <th>kurtosis</th>\n",
       "    </tr>\n",
       "  </thead>\n",
       "  <tbody>\n",
       "    <tr>\n",
       "      <th>0</th>\n",
       "      <td>store</td>\n",
       "      <td>1.0</td>\n",
       "      <td>1115.0</td>\n",
       "      <td>1114.0</td>\n",
       "      <td>558.429727</td>\n",
       "      <td>558.0</td>\n",
       "      <td>321.908493</td>\n",
       "      <td>-0.000955</td>\n",
       "      <td>-1.200524</td>\n",
       "    </tr>\n",
       "    <tr>\n",
       "      <th>1</th>\n",
       "      <td>day_of_week</td>\n",
       "      <td>1.0</td>\n",
       "      <td>7.0</td>\n",
       "      <td>6.0</td>\n",
       "      <td>3.998341</td>\n",
       "      <td>4.0</td>\n",
       "      <td>1.997390</td>\n",
       "      <td>0.001593</td>\n",
       "      <td>-1.246873</td>\n",
       "    </tr>\n",
       "    <tr>\n",
       "      <th>2</th>\n",
       "      <td>sales</td>\n",
       "      <td>0.0</td>\n",
       "      <td>41551.0</td>\n",
       "      <td>41551.0</td>\n",
       "      <td>5773.818972</td>\n",
       "      <td>5744.0</td>\n",
       "      <td>3849.924283</td>\n",
       "      <td>0.641460</td>\n",
       "      <td>1.778375</td>\n",
       "    </tr>\n",
       "    <tr>\n",
       "      <th>3</th>\n",
       "      <td>customers</td>\n",
       "      <td>0.0</td>\n",
       "      <td>7388.0</td>\n",
       "      <td>7388.0</td>\n",
       "      <td>633.145946</td>\n",
       "      <td>609.0</td>\n",
       "      <td>464.411506</td>\n",
       "      <td>1.598650</td>\n",
       "      <td>7.091773</td>\n",
       "    </tr>\n",
       "    <tr>\n",
       "      <th>4</th>\n",
       "      <td>open</td>\n",
       "      <td>0.0</td>\n",
       "      <td>1.0</td>\n",
       "      <td>1.0</td>\n",
       "      <td>0.830107</td>\n",
       "      <td>1.0</td>\n",
       "      <td>0.375539</td>\n",
       "      <td>-1.758045</td>\n",
       "      <td>1.090723</td>\n",
       "    </tr>\n",
       "    <tr>\n",
       "      <th>5</th>\n",
       "      <td>promo</td>\n",
       "      <td>0.0</td>\n",
       "      <td>1.0</td>\n",
       "      <td>1.0</td>\n",
       "      <td>0.381515</td>\n",
       "      <td>0.0</td>\n",
       "      <td>0.485758</td>\n",
       "      <td>0.487838</td>\n",
       "      <td>-1.762018</td>\n",
       "    </tr>\n",
       "    <tr>\n",
       "      <th>6</th>\n",
       "      <td>school_holiday</td>\n",
       "      <td>0.0</td>\n",
       "      <td>1.0</td>\n",
       "      <td>1.0</td>\n",
       "      <td>0.178647</td>\n",
       "      <td>0.0</td>\n",
       "      <td>0.383056</td>\n",
       "      <td>1.677842</td>\n",
       "      <td>0.815154</td>\n",
       "    </tr>\n",
       "    <tr>\n",
       "      <th>7</th>\n",
       "      <td>competition_distance</td>\n",
       "      <td>20.0</td>\n",
       "      <td>200000.0</td>\n",
       "      <td>199980.0</td>\n",
       "      <td>5935.442677</td>\n",
       "      <td>2330.0</td>\n",
       "      <td>12547.646829</td>\n",
       "      <td>10.242344</td>\n",
       "      <td>147.789712</td>\n",
       "    </tr>\n",
       "    <tr>\n",
       "      <th>8</th>\n",
       "      <td>competition_open_since_month</td>\n",
       "      <td>1.0</td>\n",
       "      <td>12.0</td>\n",
       "      <td>11.0</td>\n",
       "      <td>6.786849</td>\n",
       "      <td>7.0</td>\n",
       "      <td>3.311085</td>\n",
       "      <td>-0.042076</td>\n",
       "      <td>-1.232607</td>\n",
       "    </tr>\n",
       "    <tr>\n",
       "      <th>9</th>\n",
       "      <td>competition_open_since_year</td>\n",
       "      <td>1900.0</td>\n",
       "      <td>2015.0</td>\n",
       "      <td>115.0</td>\n",
       "      <td>2010.324840</td>\n",
       "      <td>2012.0</td>\n",
       "      <td>5.515591</td>\n",
       "      <td>-7.235657</td>\n",
       "      <td>124.071304</td>\n",
       "    </tr>\n",
       "    <tr>\n",
       "      <th>10</th>\n",
       "      <td>promo2</td>\n",
       "      <td>0.0</td>\n",
       "      <td>1.0</td>\n",
       "      <td>1.0</td>\n",
       "      <td>0.500564</td>\n",
       "      <td>1.0</td>\n",
       "      <td>0.500000</td>\n",
       "      <td>-0.002255</td>\n",
       "      <td>-1.999999</td>\n",
       "    </tr>\n",
       "    <tr>\n",
       "      <th>11</th>\n",
       "      <td>promo2_since_week</td>\n",
       "      <td>1.0</td>\n",
       "      <td>52.0</td>\n",
       "      <td>51.0</td>\n",
       "      <td>23.619033</td>\n",
       "      <td>22.0</td>\n",
       "      <td>14.310057</td>\n",
       "      <td>0.178723</td>\n",
       "      <td>-1.184046</td>\n",
       "    </tr>\n",
       "    <tr>\n",
       "      <th>12</th>\n",
       "      <td>promo2_since_year</td>\n",
       "      <td>2009.0</td>\n",
       "      <td>2015.0</td>\n",
       "      <td>6.0</td>\n",
       "      <td>2012.793297</td>\n",
       "      <td>2013.0</td>\n",
       "      <td>1.662657</td>\n",
       "      <td>-0.784436</td>\n",
       "      <td>-0.210075</td>\n",
       "    </tr>\n",
       "    <tr>\n",
       "      <th>13</th>\n",
       "      <td>is_promo</td>\n",
       "      <td>0.0</td>\n",
       "      <td>1.0</td>\n",
       "      <td>1.0</td>\n",
       "      <td>0.161100</td>\n",
       "      <td>0.0</td>\n",
       "      <td>0.367623</td>\n",
       "      <td>1.843742</td>\n",
       "      <td>1.399388</td>\n",
       "    </tr>\n",
       "  </tbody>\n",
       "</table>\n",
       "</div>"
      ],
      "text/plain": [
       "                      attributes     min       max     range         mean  median           std       skew    kurtosis\n",
       "0                          store     1.0    1115.0    1114.0   558.429727   558.0    321.908493  -0.000955   -1.200524\n",
       "1                    day_of_week     1.0       7.0       6.0     3.998341     4.0      1.997390   0.001593   -1.246873\n",
       "2                          sales     0.0   41551.0   41551.0  5773.818972  5744.0   3849.924283   0.641460    1.778375\n",
       "3                      customers     0.0    7388.0    7388.0   633.145946   609.0    464.411506   1.598650    7.091773\n",
       "4                           open     0.0       1.0       1.0     0.830107     1.0      0.375539  -1.758045    1.090723\n",
       "5                          promo     0.0       1.0       1.0     0.381515     0.0      0.485758   0.487838   -1.762018\n",
       "6                 school_holiday     0.0       1.0       1.0     0.178647     0.0      0.383056   1.677842    0.815154\n",
       "7           competition_distance    20.0  200000.0  199980.0  5935.442677  2330.0  12547.646829  10.242344  147.789712\n",
       "8   competition_open_since_month     1.0      12.0      11.0     6.786849     7.0      3.311085  -0.042076   -1.232607\n",
       "9    competition_open_since_year  1900.0    2015.0     115.0  2010.324840  2012.0      5.515591  -7.235657  124.071304\n",
       "10                        promo2     0.0       1.0       1.0     0.500564     1.0      0.500000  -0.002255   -1.999999\n",
       "11             promo2_since_week     1.0      52.0      51.0    23.619033    22.0     14.310057   0.178723   -1.184046\n",
       "12             promo2_since_year  2009.0    2015.0       6.0  2012.793297  2013.0      1.662657  -0.784436   -0.210075\n",
       "13                      is_promo     0.0       1.0       1.0     0.161100     0.0      0.367623   1.843742    1.399388"
      ]
     },
     "execution_count": 12,
     "metadata": {},
     "output_type": "execute_result"
    }
   ],
   "source": [
    "# Central Tendency - mean, median\n",
    "ct1 = pd.DataFrame( num_attributes.apply( np.mean ) ).T\n",
    "ct2 = pd.DataFrame( num_attributes.apply( np.median ) ).T\n",
    "\n",
    "# Dispersion - std, min, max, range, skew, kurtosis\n",
    "d1 = pd.DataFrame( num_attributes.apply( np.std ) ).T\n",
    "d2 = pd.DataFrame( num_attributes.apply( min ) ).T\n",
    "d3 = pd.DataFrame( num_attributes.apply( max ) ).T\n",
    "d4 = pd.DataFrame( num_attributes.apply( lambda x: x.max() - x.min() ) ).T\n",
    "d5 = pd.DataFrame( num_attributes.apply( lambda x: x.skew() ) ).T\n",
    "d6 = pd.DataFrame( num_attributes.apply( lambda x: x.kurtosis() ) ).T\n",
    "\n",
    "# Concatenar\n",
    "m = pd.concat( [ d2, d3, d4, ct1, ct2, d1, d5, d6 ] ).T.reset_index()\n",
    "m.columns = ['attributes', 'min', 'max', 'range', 'mean', 'median', 'std', 'skew', 'kurtosis']\n",
    "m"
   ]
  },
  {
   "cell_type": "code",
   "execution_count": 13,
   "id": "fb9bf569",
   "metadata": {
    "ExecuteTime": {
     "end_time": "2022-01-11T12:21:14.105786Z",
     "start_time": "2022-01-11T12:21:08.731443Z"
    },
    "hidden": true
   },
   "outputs": [
    {
     "data": {
      "text/plain": [
       "<seaborn.axisgrid.FacetGrid at 0x24c03702730>"
      ]
     },
     "execution_count": 13,
     "metadata": {},
     "output_type": "execute_result"
    },
    {
     "data": {
      "image/png": "[encoded data removed]",
      "text/plain": [
       "<Figure size 360x360 with 1 Axes>"
      ]
     },
     "metadata": {},
     "output_type": "display_data"
    }
   ],
   "source": [
    "sns.displot( df1['competition_distance'] )"
   ]
  },
  {
   "cell_type": "markdown",
   "id": "b3b5e84b",
   "metadata": {
    "hidden": true
   },
   "source": [
    "### 1.7.2 Categorical Attributes"
   ]
  },
  {
   "cell_type": "code",
   "execution_count": 14,
   "id": "565b123b",
   "metadata": {
    "ExecuteTime": {
     "end_time": "2022-01-11T12:21:14.408463Z",
     "start_time": "2022-01-11T12:21:14.107668Z"
    },
    "hidden": true
   },
   "outputs": [
    {
     "data": {
      "text/plain": [
       "state_holiday      4\n",
       "store_type         4\n",
       "assortment         3\n",
       "promo_interval     4\n",
       "month_map         12\n",
       "dtype: int64"
      ]
     },
     "execution_count": 14,
     "metadata": {},
     "output_type": "execute_result"
    }
   ],
   "source": [
    "cat_attributes.apply( lambda x: x.unique().shape[0] )"
   ]
  },
  {
   "cell_type": "code",
   "execution_count": 15,
   "id": "44990191",
   "metadata": {
    "ExecuteTime": {
     "end_time": "2022-01-11T12:21:15.307999Z",
     "start_time": "2022-01-11T12:21:14.410359Z"
    },
    "hidden": true
   },
   "outputs": [
    {
     "data": {
      "text/plain": [
       "<AxesSubplot:xlabel='assortment', ylabel='sales'>"
      ]
     },
     "execution_count": 15,
     "metadata": {},
     "output_type": "execute_result"
    },
    {
     "data": {
      "image/png": "[encoded data removed]",
      "text/plain": [
       "<Figure size 1800x864 with 3 Axes>"
      ]
     },
     "metadata": {},
     "output_type": "display_data"
    }
   ],
   "source": [
    "aux1 = df1[(df1['state_holiday'] != '0') & (df1['sales'] > 0)]\n",
    "\n",
    "plt.subplot(1,3,1)\n",
    "sns.boxplot( x='state_holiday', y='sales', data=aux1 )\n",
    "\n",
    "plt.subplot(1,3,2)\n",
    "sns.boxplot( x='store_type', y='sales', data=aux1 )\n",
    "\n",
    "plt.subplot(1,3,3)\n",
    "sns.boxplot( x='assortment', y='sales', data=aux1 )"
   ]
  },
  {
   "cell_type": "markdown",
   "id": "a15811f4",
   "metadata": {
    "heading_collapsed": true
   },
   "source": [
    "# 2.0 PASSO 2 - FEATURE ENGINEERING"
   ]
  },
  {
   "cell_type": "code",
   "execution_count": 16,
   "id": "2e62cabc",
   "metadata": {
    "ExecuteTime": {
     "end_time": "2022-01-11T12:21:15.371267Z",
     "start_time": "2022-01-11T12:21:15.310997Z"
    },
    "hidden": true
   },
   "outputs": [],
   "source": [
    "df2 = df1.copy()"
   ]
  },
  {
   "cell_type": "markdown",
   "id": "dfaa2622",
   "metadata": {
    "hidden": true
   },
   "source": [
    "## 2.1 Mapa mental de Hipoteses"
   ]
  },
  {
   "cell_type": "code",
   "execution_count": 17,
   "id": "17ae94e7",
   "metadata": {
    "ExecuteTime": {
     "end_time": "2022-01-11T12:21:15.542690Z",
     "start_time": "2022-01-11T12:21:15.372979Z"
    },
    "hidden": true
   },
   "outputs": [
    {
     "data": {
      "image/png": "[encoded data removed]",
      "text/plain": [
       "<IPython.core.display.Image object>"
      ]
     },
     "execution_count": 17,
     "metadata": {},
     "output_type": "execute_result"
    }
   ],
   "source": [
    "Image('img/mindmaphypothesis.png')"
   ]
  },
  {
   "cell_type": "markdown",
   "id": "ae1d95b0",
   "metadata": {
    "heading_collapsed": true,
    "hidden": true
   },
   "source": [
    "## 2.2 Criação das Hipoteses"
   ]
  },
  {
   "cell_type": "markdown",
   "id": "58aa130c",
   "metadata": {
    "hidden": true
   },
   "source": [
    "### 2.2.1 Hipoteses Loja"
   ]
  },
  {
   "cell_type": "markdown",
   "id": "5a34c5a7",
   "metadata": {
    "hidden": true
   },
   "source": [
    "**1.** Lojas com número maior de funcionários deveriam vender mais.\n",
    "\n",
    "**2.** Lojas com maior capacidade de estoque deveriam vender mais.\n",
    "\n",
    "**3.** Lojas com maior porte deveriam vender mais.\n",
    "\n",
    "**4.** Lojas com maior sortimentos deveriam vender mais.\n",
    "\n",
    "**5.** Lojas com competidores mais próximos deveriam vender menos.\n",
    "\n",
    "**6.** Lojas com competidores à mais tempo deveriam vendem mais."
   ]
  },
  {
   "cell_type": "markdown",
   "id": "10255e94",
   "metadata": {
    "hidden": true
   },
   "source": [
    "### 2.2.2 Hipoteses Produto"
   ]
  },
  {
   "cell_type": "markdown",
   "id": "ba8bfb7d",
   "metadata": {
    "hidden": true
   },
   "source": [
    "**1.** Lojas que investem mais em Marketing deveriam vender mais.\n",
    "\n",
    "**2.** Lojas com maior exposição de produto deveriam vender mais.\n",
    "\n",
    "**3.** Lojas com produtos com preço menor deveriam vender mais.\n",
    "\n",
    "**5.** Lojas com promoções mais agressivas ( descontos maiores ), deveriam vender mais.\n",
    "\n",
    "**6.** Lojas com promoções ativas por mais tempo deveriam vender mais.\n",
    "\n",
    "**7.** Lojas com mais dias de promoção deveriam vender mais.\n",
    "\n",
    "**8.** Lojas com mais promoções consecutivas deveriam vender mais."
   ]
  },
  {
   "cell_type": "markdown",
   "id": "8fcf455c",
   "metadata": {
    "hidden": true
   },
   "source": [
    "### 2.2.3 Hipoteses Tempo"
   ]
  },
  {
   "cell_type": "markdown",
   "id": "8335692d",
   "metadata": {
    "hidden": true
   },
   "source": [
    "**1.** Lojas abertas durante o feriado de Natal deveriam vender mais.\n",
    "\n",
    "**2.** Lojas deveriam vender mais ao longo dos anos.\n",
    "\n",
    "**3.** Lojas deveriam vender mais no segundo semestre do ano.\n",
    "\n",
    "**4.** Lojas deveriam vender mais depois do dia 10 de cada mês.\n",
    "\n",
    "**5.** Lojas deveriam vender menos aos finais de semana.\n",
    "\n",
    "**6.** Lojas deveriam vender menos durante os feriados escolares.\n"
   ]
  },
  {
   "cell_type": "markdown",
   "id": "73690e75",
   "metadata": {
    "hidden": true
   },
   "source": [
    "### 2.2.4 Lista Final de Hipoteses"
   ]
  },
  {
   "cell_type": "markdown",
   "id": "70c6e353",
   "metadata": {
    "hidden": true
   },
   "source": [
    "**1.** Lojas com maior sortimentos deveriam vender mais.\n",
    "\n",
    "**2.** Lojas com competidores mais próximos deveriam vender menos.\n",
    "\n",
    "**3.** Lojas com competidores à mais tempo deveriam vendem mais.\n",
    "\n",
    "**4.** Lojas com promoções ativas por mais tempo deveriam vender mais.\n",
    "\n",
    "**5.** Lojas com mais dias de promoção deveriam vender mais.\n",
    "\n",
    "**7.** Lojas com mais promoções consecutivas deveriam vender mais.\n",
    "\n",
    "**8.** Lojas abertas durante o feriado de Natal deveriam vender mais.\n",
    "\n",
    "**9.** Lojas deveriam vender mais ao longo dos anos.\n",
    "\n",
    "**10.** Lojas deveriam vender mais no segundo semestre do ano.\n",
    "\n",
    "**11.** Lojas deveriam vender mais depois do dia 10 de cada mês.\n",
    "\n",
    "**12.** Lojas deveriam vender menos aos finais de semana.\n",
    "\n",
    "**13.** Lojas deveriam vender menos durante os feriados escolares."
   ]
  },
  {
   "cell_type": "markdown",
   "id": "34faa176",
   "metadata": {
    "hidden": true
   },
   "source": [
    "## 2.3 Feature Engineering"
   ]
  },
  {
   "cell_type": "code",
   "execution_count": null,
   "id": "4cd67dc6",
   "metadata": {
    "ExecuteTime": {
     "start_time": "2022-01-11T12:19:49.951Z"
    },
    "hidden": true
   },
   "outputs": [
    {
     "name": "stderr",
     "output_type": "stream",
     "text": [
      "<ipython-input-18-bb46f058233a>:11: FutureWarning: Series.dt.weekofyear and Series.dt.week have been deprecated.  Please use Series.dt.isocalendar().week instead.\n",
      "  df2['week_of_year'] = df2['date'].dt.weekofyear\n"
     ]
    }
   ],
   "source": [
    "# year\n",
    "df2['year'] = df2['date'].dt.year\n",
    "\n",
    "# month\n",
    "df2['month'] = df2['date'].dt.month\n",
    "\n",
    "# day\n",
    "df2['day'] = df2['date'].dt.day\n",
    "\n",
    "# week of year\n",
    "df2['week_of_year'] = df2['date'].dt.weekofyear\n",
    "\n",
    "# year week\n",
    "df2['year_week'] = df2['date'].dt.strftime( '%Y-%W' )\n",
    "\n",
    "# competition since\n",
    "df2['competition_since'] = df2.apply( lambda x: datetime.datetime( year=x['competition_open_since_year'], month=x['competition_open_since_month'], day=1 ), axis=1 )\n",
    "df2['competition_time_month'] = ( ( df2['date'] - df2['competition_since'] ) / 30 ).apply( lambda x: x.days ).astype( int )                                                                                      \n",
    "\n",
    "# promo since\n",
    "df2['promo_since'] = df2['promo2_since_year'].astype( str ) + '-' + df2['promo2_since_week'].astype( str )\n",
    "df2['promo_since'] = df2['promo_since'].apply( lambda x: datetime.datetime.strptime( x + '-1', '%Y-%W-%w' ) - datetime.timedelta( days=7 ) )\n",
    "df2['promo_time_week'] = ( ( df2['date'] - df2['promo_since'] ) /7 ).apply( lambda x: x.days ).astype( int )\n",
    "\n",
    "# assortment\n",
    "df2['assortment'] = df2['assortment'].apply(lambda x: 'basic' if x == 'a' else 'extra' if x == 'b' else 'extended' )\n",
    "\n",
    "# state holiday\n",
    "df2['state_holiday'] = df2['state_holiday'].apply( lambda x:'public_holiday' if x == 'a' else 'easter_holiday' if x == 'b' else 'christmas' if x == 'c' else 'regular_day' )\n"
   ]
  },
  {
   "cell_type": "code",
   "execution_count": null,
   "id": "fd862f4b",
   "metadata": {
    "ExecuteTime": {
     "start_time": "2022-01-11T12:19:52.310Z"
    },
    "hidden": true
   },
   "outputs": [],
   "source": [
    "df2.head().T"
   ]
  },
  {
   "cell_type": "markdown",
   "id": "b3bcc249",
   "metadata": {},
   "source": [
    "# 3.0 PASSO 3 - FEATURE FILTERING"
   ]
  },
  {
   "cell_type": "code",
   "execution_count": null,
   "id": "e171852b",
   "metadata": {
    "ExecuteTime": {
     "start_time": "2022-01-11T12:22:11.717Z"
    }
   },
   "outputs": [],
   "source": [
    "df3 = df2.copy()"
   ]
  },
  {
   "cell_type": "code",
   "execution_count": null,
   "id": "8a96f09f",
   "metadata": {
    "ExecuteTime": {
     "start_time": "2022-01-11T12:22:12.116Z"
    }
   },
   "outputs": [],
   "source": [
    "df3.head()"
   ]
  },
  {
   "cell_type": "markdown",
   "id": "cee18840",
   "metadata": {},
   "source": [
    "## 3.1 Filtragem das Linhas"
   ]
  },
  {
   "cell_type": "code",
   "execution_count": null,
   "id": "7d905220",
   "metadata": {
    "ExecuteTime": {
     "start_time": "2022-01-11T12:22:12.996Z"
    }
   },
   "outputs": [],
   "source": [
    "df3 = df3[ (df3['open'] != 0) & (df3['sales'] > 0) ]"
   ]
  },
  {
   "cell_type": "markdown",
   "id": "7479a09a",
   "metadata": {},
   "source": [
    "## 3.2 Seleção das Colunas"
   ]
  },
  {
   "cell_type": "code",
   "execution_count": null,
   "id": "baaae20d",
   "metadata": {
    "ExecuteTime": {
     "start_time": "2022-01-11T12:22:13.837Z"
    }
   },
   "outputs": [],
   "source": [
    "cols_drop = ['customers', 'open', 'promo_interval', 'month_map']\n",
    "df3 = df3.drop( cols_drop, axis = 1)"
   ]
  },
  {
   "cell_type": "code",
   "execution_count": null,
   "id": "ee35f6ba",
   "metadata": {
    "ExecuteTime": {
     "start_time": "2022-01-11T12:22:14.228Z"
    }
   },
   "outputs": [],
   "source": [
    "df3.columns"
   ]
  },
  {
   "cell_type": "markdown",
   "id": "f537a71c",
   "metadata": {},
   "source": [
    "# 4.0 PASSO 4 - ANÁLISE EXPLORATÓRIA DOS DADOS"
   ]
  },
  {
   "cell_type": "code",
   "execution_count": null,
   "id": "3c82c510",
   "metadata": {
    "ExecuteTime": {
     "start_time": "2022-01-11T12:22:19.061Z"
    }
   },
   "outputs": [],
   "source": [
    "df4 = df3.copy()"
   ]
  },
  {
   "cell_type": "markdown",
   "id": "f5ae113a",
   "metadata": {},
   "source": [
    "## 4.1 Análise Univariadaabs"
   ]
  },
  {
   "cell_type": "markdown",
   "id": "63fbcd36",
   "metadata": {},
   "source": [
    "### 4.1.1 Response Variable"
   ]
  },
  {
   "cell_type": "code",
   "execution_count": null,
   "id": "013139db",
   "metadata": {
    "ExecuteTime": {
     "start_time": "2022-01-11T12:22:20.372Z"
    },
    "hide_input": false
   },
   "outputs": [],
   "source": [
    "sns.distplot(df4['sales'])"
   ]
  },
  {
   "cell_type": "markdown",
   "id": "7f1350fb",
   "metadata": {},
   "source": [
    "### 4.1.2 Numerical Variable"
   ]
  },
  {
   "cell_type": "code",
   "execution_count": null,
   "id": "069733d1",
   "metadata": {
    "ExecuteTime": {
     "end_time": "2022-01-10T14:21:09.977726Z",
     "start_time": "2022-01-10T14:21:05.318931Z"
    },
    "hide_input": false
   },
   "outputs": [],
   "source": [
    "num_attributes.hist( bins = 25 );"
   ]
  },
  {
   "cell_type": "markdown",
   "id": "f4617a0f",
   "metadata": {},
   "source": [
    "### 4.1.3 Categorical Variable"
   ]
  },
  {
   "cell_type": "code",
   "execution_count": null,
   "id": "7219e5bf",
   "metadata": {
    "ExecuteTime": {
     "start_time": "2022-01-11T12:22:26.548Z"
    }
   },
   "outputs": [],
   "source": [
    "df4['state_holiday'].drop_duplicates()"
   ]
  },
  {
   "cell_type": "code",
   "execution_count": null,
   "id": "97a59cb1",
   "metadata": {
    "ExecuteTime": {
     "end_time": "2022-01-10T14:21:34.739028Z",
     "start_time": "2022-01-10T14:21:16.327925Z"
    },
    "hide_input": false
   },
   "outputs": [],
   "source": [
    "# state holiday\n",
    "plt.subplot( 3, 2, 1 )\n",
    "a = df4[df4['state_holiday'] != 'regular_day']\n",
    "sns.countplot( a['state_holiday'] )\n",
    "\n",
    "plt.subplot( 3, 2, 2 )\n",
    "sns.kdeplot( df4[df4['state_holiday'] == 'public_holiday']['sales'], label='public_holiday', shade=True )\n",
    "sns.kdeplot( df4[df4['state_holiday'] == 'easter_holiday']['sales'], label='easter_holiday', shade=True )\n",
    "sns.kdeplot( df4[df4['state_holiday'] == 'christmas']['sales'], label='christmas', shade=True )\n",
    "\n",
    "# store type\n",
    "plt.subplot( 3, 2, 3 )\n",
    "sns.countplot( a['store_type'] )\n",
    "\n",
    "plt.subplot( 3, 2, 4 )\n",
    "sns.kdeplot( df4[df4['store_type'] == 'a']['sales'], label='a', shade=True )\n",
    "sns.kdeplot( df4[df4['store_type'] == 'b']['sales'], label='b', shade=True )\n",
    "sns.kdeplot( df4[df4['store_type'] == 'c']['sales'], label='c', shade=True )\n",
    "sns.kdeplot( df4[df4['store_type'] == 'd']['sales'], label='d', shade=True )\n",
    "\n",
    "# assortment\n",
    "plt.subplot( 3, 2, 5 )\n",
    "sns.countplot( a['assortment'] )\n",
    "\n",
    "plt.subplot( 3, 2, 6 )\n",
    "sns.kdeplot( df4[df4['assortment'] == 'extended']['sales'], label='extended', shade=True )\n",
    "sns.kdeplot( df4[df4['assortment'] == 'basic']['sales'], label='basic', shade=True )\n",
    "sns.kdeplot( df4[df4['assortment'] == 'extra']['sales'], label='extra', shade=True )"
   ]
  },
  {
   "cell_type": "markdown",
   "id": "f252aadc",
   "metadata": {},
   "source": [
    "## 4.2 Análise Bivariada"
   ]
  },
  {
   "cell_type": "markdown",
   "id": "4f049dc9",
   "metadata": {},
   "source": [
    "### H1. Lojas com maior sortimentos deveriam vender mais.\n",
    "Hipótese **FALSA**: lojas com maior sortimento vendem menos."
   ]
  },
  {
   "cell_type": "code",
   "execution_count": null,
   "id": "3f6dd173",
   "metadata": {
    "ExecuteTime": {
     "end_time": "2022-01-10T14:21:36.191755Z",
     "start_time": "2022-01-10T14:21:34.741027Z"
    }
   },
   "outputs": [],
   "source": [
    "aux1 = df4[['assortment', 'sales']].groupby( 'assortment' ).sum().reset_index()\n",
    "sns.barplot( x='assortment', y='sales', data=aux1 );\n",
    "aux2 = df4[['year_week', 'assortment', 'sales']].groupby(['year_week','assortment'] ).sum().reset_index()\n",
    "aux2.pivot( index='year_week', columns='assortment', values='sales' ).plot()\n",
    "aux3 = aux2[aux2['assortment'] == 'extra']\n",
    "aux3.pivot( index='year_week', columns='assortment', values='sales' ).plot()"
   ]
  },
  {
   "cell_type": "code",
   "execution_count": null,
   "id": "96d7a159",
   "metadata": {
    "ExecuteTime": {
     "end_time": "2022-01-10T14:21:37.469474Z",
     "start_time": "2022-01-10T14:21:36.193753Z"
    },
    "hide_input": false
   },
   "outputs": [],
   "source": [
    "aux1 = df4[['assortment','sales']].groupby('assortment').sum().reset_index()\n",
    "sns.barplot( x='assortment', y='sales', data=aux1 );\n",
    "\n",
    "aux2 = df4[['year_week','assortment','sales']].groupby(['year_week','assortment']).sum().reset_index()\n",
    "aux2.pivot( index='year_week', columns='assortment', values='sales').plot()\n",
    "\n",
    "aux3 = aux2[aux2['assortment'] == 'extra']\n",
    "aux3.pivot( index='year_week', columns='assortment', values='sales').plot()"
   ]
  },
  {
   "cell_type": "markdown",
   "id": "0a87d716",
   "metadata": {},
   "source": [
    "### H2. Lojas com competidores mais próximos deveriam vender menos.\n",
    "Hipótese **FALSA**: lojas com **COMPETIDORES** mais próximos vendem **MAIS**."
   ]
  },
  {
   "cell_type": "code",
   "execution_count": null,
   "id": "0cb0280e",
   "metadata": {
    "ExecuteTime": {
     "end_time": "2022-01-10T14:22:45.269867Z",
     "start_time": "2022-01-10T14:22:43.399154Z"
    }
   },
   "outputs": [],
   "source": [
    "aux1 = df4[['competition_distance','sales']].groupby('competition_distance').sum().reset_index()\n",
    "plt.subplot( 1, 3, 1 )\n",
    "sns.scatterplot( x='competition_distance', y='sales', data=aux1 )\n",
    "\n",
    "plt.subplot( 1, 3, 2)\n",
    "bins = list( np.arange(0, 20000, 1000) )\n",
    "aux1['competition_distance_binned'] = pd.cut( aux1['competition_distance'], bins=bins )\n",
    "aux2 = aux1[['competition_distance_binned','sales']].groupby('competition_distance_binned').sum().reset_index()\n",
    "sns.barplot( x='competition_distance_binned', y='sales', data=aux2);\n",
    "plt.xticks( rotation=90 )\n",
    "\n",
    "plt.subplot( 1, 3, 3 )\n",
    "sns.heatmap( aux1.corr( method='pearson' ), annot=True );"
   ]
  },
  {
   "cell_type": "markdown",
   "id": "a7629f16",
   "metadata": {},
   "source": [
    "### H3. Lojas com competidores à mais tempo deveriam vendem mais.\n",
    "Hipótese **FALSA**: lojas com **COMPETIDORES** à mais tempos vendem **MENOS**"
   ]
  },
  {
   "cell_type": "code",
   "execution_count": null,
   "id": "f441671a",
   "metadata": {
    "ExecuteTime": {
     "end_time": "2022-01-10T14:22:58.942827Z",
     "start_time": "2022-01-10T14:22:45.272864Z"
    }
   },
   "outputs": [],
   "source": [
    "plt.subplot( 1, 3, 1)\n",
    "aux1 = df4[['competition_time_month','sales']].groupby( 'competition_time_month' ).sum().reset_index()\n",
    "aux2 = aux1[(aux1['competition_time_month'] < 120) & (aux1['competition_time_month'] != 0)]\n",
    "sns.barplot( x='competition_time_month', y='sales', data=aux2);\n",
    "plt.xticks( rotation=90 );\n",
    "\n",
    "plt.subplot( 1, 3, 2)\n",
    "sns.regplot( x='competition_time_month', y='sales', data=aux2);\n",
    "\n",
    "plt.subplot( 1, 3, 3 )\n",
    "sns.heatmap( aux1.corr( method='pearson'), annot=True );"
   ]
  },
  {
   "cell_type": "markdown",
   "id": "f916a811",
   "metadata": {},
   "source": [
    "### H4. Lojas com promoções ativas por mais tempo deveriam vender mais.\n",
    "Hipótese **FALSA**: Lojas com promoções ativas por mais tempo vendem menos, depois de um certo período de tempo de promoção."
   ]
  },
  {
   "cell_type": "code",
   "execution_count": null,
   "id": "06834663",
   "metadata": {
    "ExecuteTime": {
     "end_time": "2022-01-10T14:23:29.317200Z",
     "start_time": "2022-01-10T14:22:58.946827Z"
    }
   },
   "outputs": [],
   "source": [
    "aux1 = df4[['promo_time_week','sales']].groupby('promo_time_week').sum().reset_index()\n",
    "\n",
    "plt.subplot(2,1,1)\n",
    "aux2 = aux1[aux1['promo_time_week'] > 0 ] # promo extendida\n",
    "sns.barplot(x='promo_time_week', y='sales', data=aux2);\n",
    "plt.xticks( rotation=90 );\n",
    "\n",
    "plt.subplot(2,1,2)\n",
    "aux3 = aux1[aux1['promo_time_week'] < 0 ] # promo regular\n",
    "sns.barplot(x='promo_time_week', y='sales', data=aux3);\n",
    "plt.xticks( rotation=90 );"
   ]
  },
  {
   "cell_type": "markdown",
   "id": "fcfee23b",
   "metadata": {},
   "source": [
    "###<s>H5. Lojas com mais dias de promoção deveriam vender mais.</s>"
   ]
  },
  {
   "cell_type": "markdown",
   "id": "19bc042f",
   "metadata": {},
   "source": [
    "### H7. Lojas com mais promoções consecutivas deveriam vender mais.\n",
    "Hipótese **FALSA**: Lojas com promoções consecutivas vendem menos."
   ]
  },
  {
   "cell_type": "code",
   "execution_count": null,
   "id": "d9ece9ab",
   "metadata": {
    "ExecuteTime": {
     "end_time": "2022-01-10T14:23:29.425147Z",
     "start_time": "2022-01-10T14:23:29.319293Z"
    }
   },
   "outputs": [],
   "source": [
    "df4[['promo','promo2','sales']].groupby(['promo','promo2']).sum().reset_index()"
   ]
  },
  {
   "cell_type": "code",
   "execution_count": null,
   "id": "e1a8bd31",
   "metadata": {
    "ExecuteTime": {
     "end_time": "2022-01-10T14:23:29.999495Z",
     "start_time": "2022-01-10T14:23:29.427146Z"
    }
   },
   "outputs": [],
   "source": [
    "aux1 = df4[( df4['promo'] == 1 ) & (df4['promo2'] == 1)][['year_week','sales']].groupby('year_week').sum().reset_index()\n",
    "ax = aux1.plot()\n",
    "\n",
    "aux2 = df4[( df4['promo'] == 1 ) & (df4['promo2'] == 0)][['year_week','sales']].groupby('year_week').sum().reset_index()\n",
    "aux2.plot( ax=ax )\n",
    "\n",
    "ax.legend(labels=['Tradicional e Extendida','Tradicional'])"
   ]
  },
  {
   "cell_type": "markdown",
   "id": "b12f4b2b",
   "metadata": {},
   "source": [
    "### **H8.** Lojas abertas durante o feriado de Natal deveriam vender mais.\n",
    "Hipótese **FALSA**: Lojas abertas durante o feriado de Natal vendem menos."
   ]
  },
  {
   "cell_type": "code",
   "execution_count": null,
   "id": "57485077",
   "metadata": {
    "ExecuteTime": {
     "end_time": "2022-01-10T14:23:30.580955Z",
     "start_time": "2022-01-10T14:23:30.001493Z"
    }
   },
   "outputs": [],
   "source": [
    "plt.subplot(1,2,1)\n",
    "aux = df4[df4['state_holiday'] != 'regular_day']\n",
    "aux1 = aux[['state_holiday', 'sales']].groupby('state_holiday').sum().reset_index()\n",
    "sns.barplot( x='state_holiday', y='sales', data=aux1 );\n",
    "\n",
    "plt.subplot(1,2,2)\n",
    "aux2 = aux[['year','state_holiday', 'sales']].groupby( ['year', 'state_holiday'] ).sum().reset_index()\n",
    "sns.barplot( x='year', y='sales', hue='state_holiday', data=aux2 );"
   ]
  },
  {
   "cell_type": "markdown",
   "id": "a6fea0ff",
   "metadata": {},
   "source": [
    "### **H9.** Lojas deveriam vender mais ao longo dos anos.\n",
    "Hipótese **FALSA**: Lojas vendem menos ao longo dos anos."
   ]
  },
  {
   "cell_type": "code",
   "execution_count": null,
   "id": "2aa0136d",
   "metadata": {
    "ExecuteTime": {
     "end_time": "2022-01-10T14:23:31.982502Z",
     "start_time": "2022-01-10T14:23:30.583953Z"
    }
   },
   "outputs": [],
   "source": [
    "aux1 = df4[['year','sales']].groupby( 'year' ).sum().reset_index()\n",
    "\n",
    "plt.subplot(1,3,1)\n",
    "sns.barplot(x='year', y='sales', data=aux1);\n",
    "\n",
    "plt.subplot(1,3,2)\n",
    "sns.regplot(x='year', y='sales', data=aux1);\n",
    "\n",
    "plt.subplot(1,3,3)\n",
    "sns.heatmap(aux1.corr( method='pearson'), annot=True);"
   ]
  },
  {
   "cell_type": "markdown",
   "id": "46cb6a64",
   "metadata": {},
   "source": [
    "### **H10.** Lojas deveriam vender mais no segundo semestre do ano.\n",
    "Hipótese **FALSA**: Lojas vendem menos durante o segundo semestre do ano."
   ]
  },
  {
   "cell_type": "code",
   "execution_count": null,
   "id": "34ec415b",
   "metadata": {
    "ExecuteTime": {
     "end_time": "2022-01-10T14:23:33.443169Z",
     "start_time": "2022-01-10T14:23:31.983847Z"
    }
   },
   "outputs": [],
   "source": [
    "aux1 = df4[['month','sales']].groupby( 'month' ).sum().reset_index()\n",
    "\n",
    "plt.subplot(1,3,1)\n",
    "sns.barplot(x='month', y='sales', data=aux1);\n",
    "\n",
    "plt.subplot(1,3,2)\n",
    "sns.regplot(x='month', y='sales', data=aux1);\n",
    "\n",
    "plt.subplot(1,3,3)\n",
    "sns.heatmap(aux1.corr( method='pearson'), annot=True);"
   ]
  },
  {
   "cell_type": "markdown",
   "id": "ede2e92e",
   "metadata": {},
   "source": [
    "### **H11.** Lojas deveriam vender mais depois do dia 10 de cada mês.\n",
    "Hipótese **'VERDADEIRA**: Lojas vendem mais depois do dia 10 de cada mês."
   ]
  },
  {
   "cell_type": "code",
   "execution_count": null,
   "id": "faddde28",
   "metadata": {
    "ExecuteTime": {
     "end_time": "2022-01-10T14:23:35.431681Z",
     "start_time": "2022-01-10T14:23:33.445166Z"
    }
   },
   "outputs": [],
   "source": [
    "aux1 = df4[['day','sales']].groupby( 'day' ).sum().reset_index()\n",
    "\n",
    "plt.subplot(2,2,1)\n",
    "sns.barplot(x='day', y='sales', data=aux1);\n",
    "\n",
    "plt.subplot(2,2,2)\n",
    "sns.regplot(x='day', y='sales', data=aux1);\n",
    "\n",
    "plt.subplot(2,2,3)\n",
    "sns.heatmap(aux1.corr( method='pearson'), annot=True);\n",
    "\n",
    "aux1['before_after'] = aux1['day'].apply( lambda x: 'before_10_days' if x <= 10 else 'after_10_days' )\n",
    "aux2 = aux1[['before_after','sales']].groupby( 'before_after' ).sum().reset_index()\n",
    "\n",
    "plt.subplot(2,2,4)\n",
    "sns.barplot( x ='before_after', y='sales', data=aux2 )"
   ]
  },
  {
   "cell_type": "markdown",
   "id": "5cc357e8",
   "metadata": {},
   "source": [
    "### **H12.** Lojas deveriam vender menos aos finais de semana.\n",
    "Hipótese **VERDADEIRA**: Lojas vendem menos aos finais de semana."
   ]
  },
  {
   "cell_type": "code",
   "execution_count": null,
   "id": "0d714768",
   "metadata": {
    "ExecuteTime": {
     "end_time": "2022-01-10T14:23:36.503678Z",
     "start_time": "2022-01-10T14:23:35.433681Z"
    }
   },
   "outputs": [],
   "source": [
    "aux1 = df4[['day_of_week','sales']].groupby( 'day_of_week' ).sum().reset_index()\n",
    "\n",
    "plt.subplot(1,3,1)\n",
    "sns.barplot(x='day_of_week', y='sales', data=aux1);\n",
    "\n",
    "plt.subplot(1,3,2)\n",
    "sns.regplot(x='day_of_week', y='sales', data=aux1);\n",
    "\n",
    "plt.subplot(1,3,3)\n",
    "sns.heatmap(aux1.corr( method='pearson'), annot=True);"
   ]
  },
  {
   "cell_type": "markdown",
   "id": "b3c8a468",
   "metadata": {},
   "source": [
    "### **H13.**Lojas deveriam vender menos durante os feriados escolares.\n",
    "Hipótese **VERDADEIRA**: Lojas vendem menos durante os feriados escolares, exceto nos meses de Julho e Agosto."
   ]
  },
  {
   "cell_type": "code",
   "execution_count": null,
   "id": "da607442",
   "metadata": {
    "ExecuteTime": {
     "end_time": "2022-01-10T14:23:37.281932Z",
     "start_time": "2022-01-10T14:23:36.508673Z"
    }
   },
   "outputs": [],
   "source": [
    "aux1 = df4[['school_holiday', 'sales']].groupby('school_holiday').sum().reset_index()\n",
    "\n",
    "plt.subplot(2,1,1)\n",
    "sns.barplot( x='school_holiday', y='sales', data=aux1);\n",
    "\n",
    "aux2 = df4[['month', 'school_holiday', 'sales']].groupby(['month', 'school_holiday']).sum().reset_index()\n",
    "\n",
    "plt.subplot(2,1,2)\n",
    "sns.barplot(x='month', y='sales', hue='school_holiday', data=aux2)"
   ]
  },
  {
   "cell_type": "markdown",
   "id": "9f7cfd17",
   "metadata": {},
   "source": [
    "## 4.3 Analise Multivariada"
   ]
  },
  {
   "cell_type": "markdown",
   "id": "0cf6d53b",
   "metadata": {
    "hide_input": false
   },
   "source": [
    "### 4.3.1 Numerical Attributes"
   ]
  },
  {
   "cell_type": "code",
   "execution_count": null,
   "id": "61350d7f",
   "metadata": {
    "ExecuteTime": {
     "end_time": "2022-01-10T14:23:39.727566Z",
     "start_time": "2022-01-10T14:23:37.283929Z"
    },
    "hide_input": false
   },
   "outputs": [],
   "source": [
    "# Only categorical data\n",
    "a = df4.select_dtypes( include='object')\n",
    "\n",
    "# Calculate cramer v\n",
    "a1 = cramer_v( a['state_holiday'], a['state_holiday'] )\n",
    "a2 = cramer_v( a['state_holiday'], a['store_type'] )\n",
    "a3 = cramer_v( a['state_holiday'], a['assortment'] )\n",
    "\n",
    "a4 = cramer_v( a['store_type'], a['state_holiday'] )\n",
    "a5 = cramer_v( a['store_type'], a['store_type'] )\n",
    "a6 = cramer_v( a['store_type'], a['assortment'] )\n",
    "\n",
    "a7 = cramer_v( a['assortment'], a['state_holiday'] )\n",
    "a8 = cramer_v( a['assortment'], a['store_type'] )\n",
    "a9 = cramer_v( a['assortment'], a['assortment'] )\n",
    "\n",
    "# Final DataSet\n",
    "\n",
    "d = pd.DataFrame( {'state_holiday': [a1, a2, a3],\n",
    "                   'store_type':    [a4, a5, a6],\n",
    "                   'assortment':    [a7, a8, a9]  })\n",
    "\n",
    "d = d.set_index( d.columns )\n",
    "\n",
    "# Heatmap\n",
    "sns.heatmap( d, annot=True )"
   ]
  },
  {
   "cell_type": "markdown",
   "id": "ae8139b0",
   "metadata": {
    "heading_collapsed": true
   },
   "source": [
    "# 5.0 PASSO 5 - PREPARAÇÃO DOS DADOS"
   ]
  },
  {
   "cell_type": "code",
   "execution_count": null,
   "id": "c79b5e6a",
   "metadata": {
    "ExecuteTime": {
     "end_time": "2022-01-10T14:23:39.804456Z",
     "start_time": "2022-01-10T14:23:39.730563Z"
    },
    "hidden": true
   },
   "outputs": [],
   "source": [
    "df5 = df4.copy()"
   ]
  },
  {
   "cell_type": "markdown",
   "id": "44849f7d",
   "metadata": {
    "hidden": true
   },
   "source": [
    "## 5.1 - Normalização"
   ]
  },
  {
   "cell_type": "code",
   "execution_count": null,
   "id": "6cfafcc6",
   "metadata": {
    "ExecuteTime": {
     "end_time": "2022-01-10T14:23:39.851499Z",
     "start_time": "2022-01-10T14:23:39.806459Z"
    },
    "hidden": true
   },
   "outputs": [],
   "source": [
    "df5.head().T"
   ]
  },
  {
   "cell_type": "markdown",
   "id": "746c6f12",
   "metadata": {
    "hidden": true
   },
   "source": [
    "## 5.2 - Reescala"
   ]
  },
  {
   "cell_type": "code",
   "execution_count": null,
   "id": "3ad0d301",
   "metadata": {
    "ExecuteTime": {
     "end_time": "2022-01-10T14:23:40.182149Z",
     "start_time": "2022-01-10T14:23:39.853501Z"
    },
    "hidden": true
   },
   "outputs": [],
   "source": [
    "a = df5.select_dtypes( include=['int64', 'float64'] )\n",
    "\n",
    "rs = RobustScaler()\n",
    "mms = MinMaxScaler()\n",
    "\n",
    "# Year\n",
    "df5['year'] = mms.fit_transform( df5[['year']].values )\n",
    "\n",
    "# competition distance\n",
    "df5['competition_distance'] = rs.fit_transform( df5[['competition_distance']].values )\n",
    "\n",
    "# competition time month\n",
    "df5['competition_time_month'] = rs.fit_transform( df5[['competition_time_month']].values )\n",
    "\n",
    "# promo time week\n",
    "df5['promo_time_week'] = mms.fit_transform( df5[['promo_time_week']].values )"
   ]
  },
  {
   "cell_type": "markdown",
   "id": "c7b5671f",
   "metadata": {
    "hidden": true
   },
   "source": [
    "## 5.3 - Transformação"
   ]
  },
  {
   "cell_type": "markdown",
   "id": "047a26df",
   "metadata": {
    "hidden": true
   },
   "source": [
    "### 5.3.1 - Encoding"
   ]
  },
  {
   "cell_type": "code",
   "execution_count": null,
   "id": "6a3a8482",
   "metadata": {
    "ExecuteTime": {
     "end_time": "2022-01-10T14:23:40.857528Z",
     "start_time": "2022-01-10T14:23:40.184152Z"
    },
    "hidden": true
   },
   "outputs": [],
   "source": [
    "# state_holiday - Hot Encoding\n",
    "df5 = pd.get_dummies( df5, prefix=['state_holiday'], columns=['state_holiday'] )\n",
    "\n",
    "# store_type - Label Encoding\n",
    "le = LabelEncoder()\n",
    "df5['store_type'] = le.fit_transform( df5['store_type'] )\n",
    "\n",
    "# assortment - Ordinal Encoding\n",
    "assortment_dict={'basic':1, 'extra':2, 'extended':3 }\n",
    "df5['assortment'] = df5['assortment'].map( assortment_dict )"
   ]
  },
  {
   "cell_type": "markdown",
   "id": "bbe593c6",
   "metadata": {
    "hidden": true
   },
   "source": [
    "### 5.3.2 - Transformação da Variavel Resposta"
   ]
  },
  {
   "cell_type": "code",
   "execution_count": null,
   "id": "e511ebfb",
   "metadata": {
    "ExecuteTime": {
     "end_time": "2022-01-10T14:23:40.905359Z",
     "start_time": "2022-01-10T14:23:40.859532Z"
    },
    "hidden": true
   },
   "outputs": [],
   "source": [
    "df5['sales'] = np.log1p( df5['sales'] )"
   ]
  },
  {
   "cell_type": "code",
   "execution_count": null,
   "id": "66cbd7c3",
   "metadata": {
    "ExecuteTime": {
     "end_time": "2022-01-10T14:23:54.734728Z",
     "start_time": "2022-01-10T14:23:40.907352Z"
    },
    "hidden": true
   },
   "outputs": [],
   "source": [
    "# day of week\n",
    "df5['day_of_week_sin'] = df5['day_of_week'].apply( lambda x: np.sin( x * ( 2. * np.pi/7 ) ) )\n",
    "df5['day_of_week_cos'] = df5['day_of_week'].apply( lambda x: np.sin( x * ( 2. * np.pi/7 ) ) )\n",
    "\n",
    "# month\n",
    "df5['month_sin'] = df5['month'].apply( lambda x: np.sin( x * ( 2. * np.pi/12 ) ) )\n",
    "df5['month_cos'] = df5['month'].apply( lambda x: np.sin( x * ( 2. * np.pi/12 ) ) )\n",
    "\n",
    "# day\n",
    "df5['day_sin'] = df5['day'].apply( lambda x: np.sin( x * ( 2. * np.pi/30 ) ) )\n",
    "df5['day_cos'] = df5['day'].apply( lambda x: np.sin( x * ( 2. * np.pi/30 ) ) )\n",
    "\n",
    "# week of year\n",
    "df5['week_of_year_sin'] = df5['week_of_year'].apply( lambda x: np.sin( x * ( 2. * np.pi/52 ) ) )\n",
    "df5['week_of_year_cos'] = df5['week_of_year'].apply( lambda x: np.sin( x * ( 2. * np.pi/52 ) ) )"
   ]
  },
  {
   "cell_type": "code",
   "execution_count": null,
   "id": "0e5403d3",
   "metadata": {
    "ExecuteTime": {
     "end_time": "2022-01-10T14:23:54.766803Z",
     "start_time": "2022-01-10T14:23:54.738814Z"
    },
    "hidden": true
   },
   "outputs": [],
   "source": [
    "df5.head().T"
   ]
  },
  {
   "cell_type": "markdown",
   "id": "33ed1707",
   "metadata": {
    "heading_collapsed": true
   },
   "source": [
    "# 6.0 PASSO 6 - FEATURE SELECTION"
   ]
  },
  {
   "cell_type": "code",
   "execution_count": null,
   "id": "723a655d",
   "metadata": {
    "ExecuteTime": {
     "end_time": "2022-01-10T14:24:04.801438Z",
     "start_time": "2022-01-10T14:24:04.726464Z"
    },
    "hidden": true
   },
   "outputs": [],
   "source": [
    "df6 = df5.copy()"
   ]
  },
  {
   "cell_type": "markdown",
   "id": "103b1b4a",
   "metadata": {
    "hidden": true
   },
   "source": [
    "## 6.1 - Split dataframe into training and test dataset"
   ]
  },
  {
   "cell_type": "code",
   "execution_count": null,
   "id": "c4be2f27",
   "metadata": {
    "ExecuteTime": {
     "end_time": "2022-01-10T14:24:08.646026Z",
     "start_time": "2022-01-10T14:24:08.342776Z"
    },
    "hidden": true
   },
   "outputs": [],
   "source": [
    "cols_drop = ['week_of_year','day','month','day_of_week','promo_since','competition_since','year_week']\n",
    "df6 = df6.drop( cols_drop, axis=1 )"
   ]
  },
  {
   "cell_type": "code",
   "execution_count": null,
   "id": "078a4d66",
   "metadata": {
    "ExecuteTime": {
     "end_time": "2022-01-10T14:24:09.071304Z",
     "start_time": "2022-01-10T14:24:08.933350Z"
    },
    "hidden": true
   },
   "outputs": [],
   "source": [
    "df6[['store','date']].groupby('store').max().reset_index()['date'][0] - datetime.timedelta( days=6*7 )"
   ]
  },
  {
   "cell_type": "code",
   "execution_count": null,
   "id": "e774c123",
   "metadata": {
    "ExecuteTime": {
     "end_time": "2022-01-10T14:24:09.650714Z",
     "start_time": "2022-01-10T14:24:09.469373Z"
    },
    "hidden": true
   },
   "outputs": [],
   "source": [
    "# Training dataset\n",
    "x_train = df6[df6['date'] < '2015-06-19']\n",
    "y_train = x_train['sales']\n",
    "\n",
    "# Test dataset\n",
    "x_test = df6[df6['date'] >= '2015-06-19']\n",
    "y_test = x_test['sales']\n",
    "\n",
    "print('Training min date: {}'.format( x_train['date'].min() ) )\n",
    "print('Training max date: {}'.format( x_train['date'].max() ) )\n",
    "\n",
    "\n",
    "print('\\nTest min date: {}'.format( x_test['date'].min() ) )\n",
    "print('Test min date: {}'.format( x_test['date'].max() ) )"
   ]
  },
  {
   "cell_type": "markdown",
   "id": "a9d705b8",
   "metadata": {
    "heading_collapsed": true,
    "hidden": true
   },
   "source": [
    "## 6.2 - Boruta as Feature Selector"
   ]
  },
  {
   "cell_type": "code",
   "execution_count": null,
   "id": "6d062f0c",
   "metadata": {
    "ExecuteTime": {
     "end_time": "2022-01-10T14:25:23.323604Z",
     "start_time": "2022-01-10T14:24:52.294148Z"
    },
    "hidden": true
   },
   "outputs": [],
   "source": [
    "# training and test dataset for Boruta\n",
    "# x_train_n = x_train.drop(['date','sales'], axis=1 ).values\n",
    "# y_train_n = y_train.values.ravel()\n",
    "\n",
    "# Define RandomForest Regressor\n",
    "# rf = RandomForestRegressor( n_jobs=-1 )\n",
    "\n",
    "#  Define Boruta\n",
    "# boruta = BorutaPy( rf, n_estimators='auto', verbose=2, random_state=42 ).fit( x_train_n, y_train_n )"
   ]
  },
  {
   "cell_type": "markdown",
   "id": "0e904d01",
   "metadata": {
    "hidden": true
   },
   "source": [
    "### 6.2.1 - Best features from Boruta"
   ]
  },
  {
   "cell_type": "code",
   "execution_count": null,
   "id": "85249704",
   "metadata": {
    "ExecuteTime": {
     "end_time": "2022-01-10T14:24:40.965247Z",
     "start_time": "2022-01-10T14:24:40.948253Z"
    },
    "hidden": true
   },
   "outputs": [],
   "source": [
    "#cols_selected = boruta.support_.tolist()\n",
    "\n",
    "# Best Features\n",
    "#x_train_fs = x_train.drop(['date','sales'], axis=1 )\n",
    "#cols_selected_boruta = x_train_fs.iloc[:, cols_selected].columns.to_list()\n",
    "\n",
    "#cols_not_selected_boruta = list(np.setdiff1d(x_train_fs.columns, cols_selected_boruta ) )"
   ]
  },
  {
   "cell_type": "markdown",
   "id": "2dcc0ccc",
   "metadata": {
    "heading_collapsed": true,
    "hidden": true
   },
   "source": [
    "## 6.3 - Manual Feature Selection"
   ]
  },
  {
   "cell_type": "code",
   "execution_count": null,
   "id": "803bec30",
   "metadata": {
    "ExecuteTime": {
     "end_time": "2022-01-10T14:25:37.835787Z",
     "start_time": "2022-01-10T14:25:37.829789Z"
    },
    "hidden": true
   },
   "outputs": [],
   "source": [
    "cols_selected_boruta = [\n",
    " 'store',\n",
    " 'promo',\n",
    " 'month_cos',\n",
    " 'month_sin',\n",
    " 'store_type',\n",
    " 'assortment',\n",
    " 'competition_distance',\n",
    " 'competition_open_since_month',\n",
    " 'competition_open_since_year',\n",
    " 'promo2',\n",
    " 'promo2_since_week',\n",
    " 'promo2_since_year',\n",
    " 'competition_time_month',\n",
    " 'promo_time_week',\n",
    " 'day_of_week_sin',\n",
    " 'day_of_week_cos',\n",
    " 'week_of_year_cos',\n",
    " 'week_of_year_sin',   \n",
    " 'day_sin',\n",
    " 'day_cos']\n",
    "\n",
    "# Columns to add\n",
    "\n",
    "feat_to_add = ['date','sales']\n",
    "\n",
    "# final features\n",
    "cols_selected_boruta_full = cols_selected_boruta.copy()\n",
    "cols_selected_boruta_full.extend( feat_to_add )"
   ]
  },
  {
   "cell_type": "code",
   "execution_count": null,
   "id": "7cab0dfe",
   "metadata": {
    "ExecuteTime": {
     "end_time": "2022-01-10T14:25:40.432920Z",
     "start_time": "2022-01-10T14:25:40.412934Z"
    },
    "hidden": true
   },
   "outputs": [],
   "source": [
    "cols_selected_boruta"
   ]
  },
  {
   "cell_type": "markdown",
   "id": "5746bcea",
   "metadata": {},
   "source": [
    "# 7.0 PASSO 7 - ML MODEL'S"
   ]
  },
  {
   "cell_type": "code",
   "execution_count": null,
   "id": "9be49f13",
   "metadata": {
    "ExecuteTime": {
     "end_time": "2022-01-10T14:26:00.737194Z",
     "start_time": "2022-01-10T14:26:00.580598Z"
    }
   },
   "outputs": [],
   "source": [
    "X_train = x_train[ cols_selected_boruta ]\n",
    "X_test = x_test[ cols_selected_boruta ]\n",
    "\n",
    "# time series data preparation\n",
    "x_training = x_train[ cols_selected_boruta_full ]"
   ]
  },
  {
   "cell_type": "markdown",
   "id": "d003814c",
   "metadata": {},
   "source": [
    "## 7.1 - Average Model"
   ]
  },
  {
   "cell_type": "code",
   "execution_count": null,
   "id": "72140565",
   "metadata": {
    "ExecuteTime": {
     "end_time": "2022-01-10T14:26:46.413992Z",
     "start_time": "2022-01-10T14:26:46.317279Z"
    }
   },
   "outputs": [],
   "source": [
    "aux1 = X_test.copy()\n",
    "aux1['sales'] = y_test.copy()\n",
    "\n",
    "# Predictions\n",
    "aux2 = aux1[['store', 'sales']].groupby('store').mean().reset_index().rename( columns={'sales': 'predictions'} )\n",
    "aux1 = pd.merge( aux1, aux2, how='left', on='store' )\n",
    "yhat_baseline= aux1['predictions']\n",
    "\n",
    "# Performance\n",
    "baseline_result = ml_error( 'Average Model', np.expm1( y_test ), np.expm1( yhat_baseline ) )\n",
    "baseline_result"
   ]
  },
  {
   "cell_type": "markdown",
   "id": "a698bfd6",
   "metadata": {},
   "source": [
    "## 7.2 - Linear Regression Model"
   ]
  },
  {
   "cell_type": "code",
   "execution_count": null,
   "id": "6ac8a9f8",
   "metadata": {
    "ExecuteTime": {
     "end_time": "2022-01-10T14:26:50.834068Z",
     "start_time": "2022-01-10T14:26:49.748237Z"
    }
   },
   "outputs": [],
   "source": [
    "# model\n",
    "lr = LinearRegression().fit( X_train, y_train )\n",
    "\n",
    "# prediction\n",
    "yhat_lr = lr.predict( X_test )\n",
    "\n",
    "# performance\n",
    "lr_result = ml_error( 'Linear Regression', np.expm1( y_test ), np.expm1( yhat_lr ) )\n",
    "lr_result"
   ]
  },
  {
   "cell_type": "markdown",
   "id": "75758454",
   "metadata": {},
   "source": [
    "### 7.2.1 - Linear Regression Model: Cross Validation"
   ]
  },
  {
   "cell_type": "code",
   "execution_count": null,
   "id": "60e36e66",
   "metadata": {
    "ExecuteTime": {
     "end_time": "2022-01-10T14:26:56.455318Z",
     "start_time": "2022-01-10T14:26:52.924128Z"
    }
   },
   "outputs": [],
   "source": [
    "lr_result_cv = cross_validation( x_training, 5, 'Linear Regression', lr, verbose=False )\n",
    "lr_result_cv"
   ]
  },
  {
   "cell_type": "markdown",
   "id": "e3c2a7c0",
   "metadata": {},
   "source": [
    "## 7.3 - Linear Regression Regularized Model"
   ]
  },
  {
   "cell_type": "code",
   "execution_count": null,
   "id": "a978b2ed",
   "metadata": {
    "ExecuteTime": {
     "end_time": "2022-01-10T14:26:57.669050Z",
     "start_time": "2022-01-10T14:26:56.804096Z"
    }
   },
   "outputs": [],
   "source": [
    "# model\n",
    "lrr = Lasso( alpha=0.01 ).fit( X_train, y_train )\n",
    "\n",
    "# prediction\n",
    "yhat_lrr = lrr.predict( X_test )\n",
    "\n",
    "# performance\n",
    "lrr_result = ml_error( 'Linear Regression - Lasso', np.expm1( y_test ), np.expm1( yhat_lrr ) )\n",
    "lrr_result"
   ]
  },
  {
   "cell_type": "markdown",
   "id": "2e937f82",
   "metadata": {},
   "source": [
    "### 7.3.1 - Linear Regression Regularized Model - Cross Validation"
   ]
  },
  {
   "cell_type": "code",
   "execution_count": null,
   "id": "634c3123",
   "metadata": {
    "ExecuteTime": {
     "end_time": "2022-01-10T14:27:05.165187Z",
     "start_time": "2022-01-10T14:27:01.380127Z"
    }
   },
   "outputs": [],
   "source": [
    "lrr_result_cv = cross_validation( x_training, 5, 'Lasso', lrr, verbose=False )\n",
    "lrr_result_cv"
   ]
  },
  {
   "cell_type": "markdown",
   "id": "168deacc",
   "metadata": {},
   "source": [
    "## 7.4 - Random Forest Regressor"
   ]
  },
  {
   "cell_type": "code",
   "execution_count": null,
   "id": "c55fb9ea",
   "metadata": {
    "ExecuteTime": {
     "end_time": "2022-01-10T14:35:51.203962Z",
     "start_time": "2022-01-10T14:27:06.060204Z"
    }
   },
   "outputs": [],
   "source": [
    "# model\n",
    "rf = RandomForestRegressor( n_estimators=100, n_jobs=-1, random_state=42 ).fit( X_train, y_train )\n",
    "\n",
    "# prediction\n",
    "yhat_rf = rf.predict( X_test )\n",
    "\n",
    "# performance\n",
    "rf_result = ml_error( 'Random Forest Regressor', np.expm1( y_test ), np.expm1( yhat_rf ) )\n",
    "rf_result"
   ]
  },
  {
   "cell_type": "markdown",
   "id": "975acf79",
   "metadata": {},
   "source": [
    "### 7.4.1 - Randon Forest Regresson - Cross Validation"
   ]
  },
  {
   "cell_type": "code",
   "execution_count": null,
   "id": "2367b725",
   "metadata": {
    "ExecuteTime": {
     "end_time": "2022-01-10T14:55:07.026246Z",
     "start_time": "2022-01-10T14:35:51.969579Z"
    }
   },
   "outputs": [],
   "source": [
    "rf_result_cv = cross_validation( x_training, 5, 'Randon Forest Regressor', rf, verbose=True )\n",
    "rf_result_cv"
   ]
  },
  {
   "cell_type": "markdown",
   "id": "489c83a6",
   "metadata": {},
   "source": [
    "## 7.5 - XGBoost Regressor"
   ]
  },
  {
   "cell_type": "code",
   "execution_count": null,
   "id": "040cb0fb",
   "metadata": {
    "ExecuteTime": {
     "end_time": "2022-01-10T14:56:51.828630Z",
     "start_time": "2022-01-10T14:55:08.138313Z"
    }
   },
   "outputs": [],
   "source": [
    "# model\n",
    "model_xgb = xgb.XGBRegressor( objective='reg:squarederror',\n",
    "                              n_estimators=100,\n",
    "                              eta=0.01,\n",
    "                              max_depth=10,\n",
    "                              subsample=0.7,\n",
    "                              colsample_bytree=0.9 ).fit( X_train, y_train )                      \n",
    "\n",
    "# prediction\n",
    "yhat_xgb = model_xgb.predict( X_test )\n",
    "\n",
    "# performance\n",
    "xgb_result = ml_error( 'XGBoost Regressor', np.expm1( y_test ), np.expm1( yhat_xgb ) )\n",
    "xgb_result"
   ]
  },
  {
   "cell_type": "markdown",
   "id": "9e698ca4",
   "metadata": {},
   "source": [
    "### 7.5.1 - XGBoost Regressor - Cross Validation"
   ]
  },
  {
   "cell_type": "code",
   "execution_count": null,
   "id": "a6cad677",
   "metadata": {
    "ExecuteTime": {
     "end_time": "2022-01-10T15:02:22.030504Z",
     "start_time": "2022-01-10T14:56:51.891141Z"
    }
   },
   "outputs": [],
   "source": [
    "xgb_result_cv = cross_validation( x_training, 5, 'XGboost Regressor', model_xgb, verbose=True )\n",
    "xgb_result_cv"
   ]
  },
  {
   "cell_type": "markdown",
   "id": "2e4df355",
   "metadata": {},
   "source": [
    "## 7.6 - Compare Model's Performance"
   ]
  },
  {
   "cell_type": "markdown",
   "id": "540bf40a",
   "metadata": {},
   "source": [
    "### 7.6.1 - Single Performance"
   ]
  },
  {
   "cell_type": "code",
   "execution_count": null,
   "id": "be1357c4",
   "metadata": {
    "ExecuteTime": {
     "end_time": "2022-01-10T15:02:22.913200Z",
     "start_time": "2022-01-10T15:02:22.032505Z"
    }
   },
   "outputs": [],
   "source": [
    "modelling_result = pd.concat( [baseline_result, lr_result, lrr_result, rf_result, xgb_result] )\n",
    "modelling_result.sort_values( 'RMSE' )"
   ]
  },
  {
   "cell_type": "markdown",
   "id": "d3dfcb96",
   "metadata": {},
   "source": [
    "### 7.6.2 - Real Performance: Cross Validation"
   ]
  },
  {
   "cell_type": "code",
   "execution_count": null,
   "id": "75a89ecc",
   "metadata": {
    "ExecuteTime": {
     "end_time": "2022-01-10T15:02:23.086368Z",
     "start_time": "2022-01-10T15:02:22.917196Z"
    }
   },
   "outputs": [],
   "source": [
    "modelling_result_cv = pd.concat( [lr_result_cv, lrr_result_cv, rf_result_cv, xgb_result_cv] )\n",
    "modelling_result_cv.sort_values('RMSE CV')"
   ]
  },
  {
   "cell_type": "markdown",
   "id": "7ffa65d4",
   "metadata": {},
   "source": [
    "# 8.0 PASSO 8 - HYPERPARAMETER FINE TUNING"
   ]
  },
  {
   "cell_type": "markdown",
   "id": "8aa4da50",
   "metadata": {
    "heading_collapsed": true
   },
   "source": [
    "## 8.1 - Random Search"
   ]
  },
  {
   "cell_type": "code",
   "execution_count": null,
   "id": "ce749c33",
   "metadata": {
    "ExecuteTime": {
     "end_time": "2022-01-10T15:58:08.469213Z",
     "start_time": "2022-01-10T15:58:08.435225Z"
    },
    "hidden": true
   },
   "outputs": [],
   "source": [
    "# import random\n",
    "# import warnings\n",
    "# warnings.filterwarnings( 'ignore' )"
   ]
  },
  {
   "cell_type": "code",
   "execution_count": null,
   "id": "93f886fa",
   "metadata": {
    "ExecuteTime": {
     "end_time": "2022-01-10T16:59:23.560744Z",
     "start_time": "2022-01-10T16:59:23.526755Z"
    },
    "hidden": true
   },
   "outputs": [],
   "source": [
    "# param = {\n",
    "#     'n_estimators': [1500, 1700, 2500, 3000, 3500], \n",
    "#     'eta': [0.01, 0.03],\n",
    "#     'max_depth': [3, 5, 9],\n",
    "#     'subsample': [0.1, 0.5, 0.7],\n",
    "#     'colsample_bytree': [0.3, 0.7, 0.9],\n",
    "#     'min_child_weight':[3, 8, 15] }\n",
    "\n",
    "# MAX_EVAL = 5"
   ]
  },
  {
   "cell_type": "code",
   "execution_count": null,
   "id": "972c3ff7",
   "metadata": {
    "ExecuteTime": {
     "end_time": "2022-01-11T00:15:25.618057Z",
     "start_time": "2022-01-10T17:04:08.616860Z"
    },
    "hidden": true
   },
   "outputs": [],
   "source": [
    "# final_result = pd.DataFrame()\n",
    "\n",
    "# for i in range( MAX_EVAL ):\n",
    "#     # choose values for parameters randomly\n",
    "#     hp = { k: random.sample(v, 1)[0] for k, v in param.items() }\n",
    "#     print( hp )\n",
    "    \n",
    "#     # model\n",
    "#     model_xgb = xgb.XGBRegressor( objective='reg:squarederror',\n",
    "#                                   n_estimators=hp['n_estimators'],\n",
    "#                                   eta=hp['eta'],\n",
    "#                                   max_depth=hp['max_depth'],\n",
    "#                                   subsample=hp['subsample'],\n",
    "#                                   colsample_bytree=hp['colsample_bytree'],\n",
    "#                                   min_child_weight=hp['min_child_weight'] )\n",
    "\n",
    "#     # performance\n",
    "#     result = cross_validation( x_training, 5, 'XGBoost Regressor', model_xgb, verbose=True )\n",
    "#     final_result = pd.concat( [final_result, result] )\n",
    "\n",
    "# final_result"
   ]
  },
  {
   "cell_type": "markdown",
   "id": "741122ee",
   "metadata": {},
   "source": [
    "## 8.2 - Final Model"
   ]
  },
  {
   "cell_type": "code",
   "execution_count": null,
   "id": "347f7da8",
   "metadata": {
    "ExecuteTime": {
     "end_time": "2022-01-11T00:49:47.595728Z",
     "start_time": "2022-01-11T00:49:47.590731Z"
    }
   },
   "outputs": [],
   "source": [
    "# param_tuned = {\n",
    "#     'n_estimators':1500, \n",
    "#     'eta':0.03,\n",
    "#     'max_depth':9,\n",
    "#     'subsample':0.1,\n",
    "#     'colsample_bytree':0.3,\n",
    "#     'min_child_weight':3}"
   ]
  },
  {
   "cell_type": "code",
   "execution_count": null,
   "id": "d22cb25e",
   "metadata": {
    "ExecuteTime": {
     "end_time": "2022-01-11T00:59:54.925688Z",
     "start_time": "2022-01-11T00:49:50.366903Z"
    }
   },
   "outputs": [],
   "source": [
    "# model_xgb_tuned = xgb.XGBRegressor( objective='reg:squarederror',\n",
    "#                                     n_estimators=param_tuned['n_estimators'],\n",
    "#                                     eta=param_tuned['eta'],\n",
    "#                                     max_depth=param_tuned['max_depth'],\n",
    "#                                     subsample=param_tuned['subsample'],\n",
    "#                                     colsample_bytree=param_tuned['colsample_bytree'],\n",
    "#                                     min_child_weight=param_tuned['min_child_weight'] ).fit( X_train, y_train )\n",
    "\n",
    "# # prediction\n",
    "# yhat_xgb_tuned = model_xgb_tuned.predict( X_test )\n",
    "\n",
    "# # performance           \n",
    "# xgb_result_tuned = ml_error( 'XGBoost Regressor', np.expm1( y_test), np.expm1( yhat_xgb_tuned ) )\n",
    "# xgb_result_tuned"
   ]
  },
  {
   "cell_type": "code",
   "execution_count": null,
   "id": "ee41a416",
   "metadata": {
    "ExecuteTime": {
     "end_time": "2022-01-11T01:50:13.976904Z",
     "start_time": "2022-01-11T01:50:13.955910Z"
    }
   },
   "outputs": [],
   "source": [
    "mpe = mean_percentage_error( np.expm1(y_test), np.expm1(yhat_xgb_tuned) )\n",
    "mpe"
   ]
  },
  {
   "cell_type": "code",
   "execution_count": null,
   "id": "4ae0c039",
   "metadata": {
    "ExecuteTime": {
     "end_time": "2022-01-11T01:02:04.413024Z",
     "start_time": "2022-01-11T01:02:04.360042Z"
    }
   },
   "outputs": [],
   "source": [
    "import pickle"
   ]
  },
  {
   "cell_type": "code",
   "execution_count": null,
   "id": "f1db916d",
   "metadata": {
    "ExecuteTime": {
     "end_time": "2022-01-11T01:02:53.453842Z",
     "start_time": "2022-01-11T01:02:49.463909Z"
    }
   },
   "outputs": [],
   "source": [
    "pickle.dump( model_xgb_tuned, open('/Users/ricadesk/Documents/ds_repos/ds_em_producao/model/model_rossmann.pkl', 'wb' ) )"
   ]
  },
  {
   "cell_type": "code",
   "execution_count": null,
   "id": "5c367577",
   "metadata": {},
   "outputs": [],
   "source": []
  }
 ],
 "metadata": {
  "hide_input": false,
  "kernelspec": {
   "display_name": "Python 3 (ipykernel)",
   "language": "python",
   "name": "python3"
  },
  "language_info": {
   "codemirror_mode": {
    "name": "ipython",
    "version": 3
   },
   "file_extension": ".py",
   "mimetype": "text/x-python",
   "name": "python",
   "nbconvert_exporter": "python",
   "pygments_lexer": "ipython3",
   "version": "3.10.12"
  }
 },
 "nbformat": 4,
 "nbformat_minor": 5
}
